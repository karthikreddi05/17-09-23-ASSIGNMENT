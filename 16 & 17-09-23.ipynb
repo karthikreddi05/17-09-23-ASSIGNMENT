{
 "cells": [
  {
   "cell_type": "code",
   "execution_count": 1,
   "id": "d56b5532-44e1-4d8b-8199-3abe33d90421",
   "metadata": {},
   "outputs": [
    {
     "name": "stdout",
     "output_type": "stream",
     "text": [
      "1\n",
      "2\n",
      "3\n",
      "4\n",
      "5\n",
      "6\n",
      "7\n",
      "8\n",
      "9\n",
      "10\n"
     ]
    }
   ],
   "source": [
    "#1Write a Python program to print numbers from 1 to 10 using a for loop.\n",
    "\n",
    "for i in range(1, 11):\n",
    "    print(i)"
   ]
  },
  {
   "cell_type": "code",
   "execution_count": 2,
   "id": "8238950e-9f9a-4900-8ddf-782d00425d3f",
   "metadata": {},
   "outputs": [
    {
     "name": "stdout",
     "output_type": "stream",
     "text": [
      "pen\n",
      "notebook\n",
      "pencil\n",
      "lunch box\n"
     ]
    }
   ],
   "source": [
    "#2Explain the difference between a for loop and a while loop in Python.\n",
    "\n",
    "items = ['pen', 'notebook','pencil', 'lunch box']\n",
    "index = 0\n",
    "items_len = len(items)\n",
    "while index<items_len:\n",
    "  print(items[index])\n",
    "  index = index+1"
   ]
  },
  {
   "cell_type": "code",
   "execution_count": 3,
   "id": "7989a1a4-2d5d-4407-aaf1-09c853f34bc8",
   "metadata": {},
   "outputs": [
    {
     "name": "stdout",
     "output_type": "stream",
     "text": [
      "5050\n"
     ]
    }
   ],
   "source": [
    "#3Write a Python program to calculate the sum of all numbers from 1 to 100 using a for loop.\n",
    "\n",
    "sum = 0\n",
    "for i in range(1, 101):\n",
    "    sum = sum + i\n",
    "\n",
    "print(sum)"
   ]
  },
  {
   "cell_type": "code",
   "execution_count": 4,
   "id": "5f8e1885-d9cb-43ba-9345-b05efdaf9ac6",
   "metadata": {},
   "outputs": [
    {
     "name": "stdout",
     "output_type": "stream",
     "text": [
      "1\n",
      "2\n",
      "3\n",
      "4\n",
      "5\n"
     ]
    }
   ],
   "source": [
    "#4How do you iterate through a list using a for loop in Python?\n",
    "\n",
    "list = [1,2,3,4,5]\n",
    "for i in list:\n",
    "    print(i)"
   ]
  },
  {
   "cell_type": "code",
   "execution_count": 5,
   "id": "9115c113-7ff1-48c9-bd6f-7e4b07ba585c",
   "metadata": {},
   "outputs": [
    {
     "name": "stdout",
     "output_type": "stream",
     "text": [
      "6\n",
      "24\n"
     ]
    }
   ],
   "source": [
    "#5Write a Python program to find the product of all elements in a list using a for loop\n",
    "\n",
    "from functools import reduce\n",
    "list1 = [1, 2, 3]\n",
    "list2 = [3, 2, 4]\n",
    " \n",
    " \n",
    "result1 = reduce((lambda x, y: x * y), list1)\n",
    "result2 = reduce((lambda x, y: x * y), list2)\n",
    "print(result1)\n",
    "print(result2)"
   ]
  },
  {
   "cell_type": "code",
   "execution_count": 8,
   "id": "06db2295-67d7-47ad-918e-cb33817dfcb5",
   "metadata": {},
   "outputs": [
    {
     "name": "stdout",
     "output_type": "stream",
     "text": [
      "2\n",
      "4\n",
      "6\n",
      "8\n",
      "10\n",
      "12\n",
      "14\n",
      "16\n",
      "18\n",
      "20\n"
     ]
    }
   ],
   "source": [
    "#6Create a Python program that prints all even numbers from 1 to 20 using a for loop.\n",
    "\n",
    "for i in range(1, 21):\n",
    "    if i % 2 == 0:\n",
    "        print(i)"
   ]
  },
  {
   "cell_type": "code",
   "execution_count": 2,
   "id": "a92d7d7a-fa69-4ed2-9b9c-6f071db549ba",
   "metadata": {},
   "outputs": [
    {
     "name": "stdout",
     "output_type": "stream",
     "text": [
      "The factorial of 10 is 3628800\n"
     ]
    }
   ],
   "source": [
    "#7Write a Python program that calculates the factorial of a number using a for loop.\n",
    "\n",
    "num = 10\n",
    "factorial = 1\n",
    "if num < 0:\n",
    "   print(\"Sorry, factorial does not exist for negative numbers\")\n",
    "elif num == 0:\n",
    "   print(\"The factorial of 0 is 1\")\n",
    "else:\n",
    "   for i in range(1,num + 1):\n",
    "       factorial = factorial*i\n",
    "   print(\"The factorial of\",num,\"is\",factorial)"
   ]
  },
  {
   "cell_type": "code",
   "execution_count": 3,
   "id": "b968d615-3ab3-4b90-aad1-5f6cd32ed462",
   "metadata": {},
   "outputs": [
    {
     "name": "stdout",
     "output_type": "stream",
     "text": [
      "p w s k i l l s \n",
      "\n",
      "P\n",
      "W\n",
      "S\n",
      "K\n",
      "I\n",
      "L\n",
      "L\n",
      "S\n"
     ]
    }
   ],
   "source": [
    "#8How can you iterate through the characters of a string using a for loop in Python?\n",
    "\n",
    "\n",
    "string_name = \"pwskills\"\n",
    "for element in string_name:\n",
    "    print(element, end=' ')\n",
    "print(\"\\n\")\n",
    "string_name = \"PWSKILLS\"\n",
    "for element in range(0, len(string_name)):\n",
    "    print(string_name[element])"
   ]
  },
  {
   "cell_type": "code",
   "execution_count": 5,
   "id": "53966f77-2601-4517-8b9f-c8d0555eb4b4",
   "metadata": {},
   "outputs": [
    {
     "name": "stdout",
     "output_type": "stream",
     "text": [
      "Largest element is: 99\n"
     ]
    }
   ],
   "source": [
    "#9Write a Python program to find the largest number in a list using a for loop\n",
    "\n",
    "list1 = [10, 20, 4, 45, 99]\n",
    "list1.sort()\n",
    "print(\"Largest element is:\", list1[-1])"
   ]
  },
  {
   "cell_type": "code",
   "execution_count": 6,
   "id": "6028f1d4-c711-4b76-b766-c14aebe51705",
   "metadata": {},
   "outputs": [
    {
     "name": "stdin",
     "output_type": "stream",
     "text": [
      "How many terms?  5\n"
     ]
    },
    {
     "name": "stdout",
     "output_type": "stream",
     "text": [
      "Fibonacci sequence:\n",
      "0\n",
      "1\n",
      "1\n",
      "2\n",
      "3\n"
     ]
    }
   ],
   "source": [
    "#10Create a Python program that prints the Fibonacci sequence up to a specified limit using a for loop.\n",
    "\n",
    "nterms = int(input(\"How many terms? \"))\n",
    "n1, n2 = 0, 1\n",
    "count = 0\n",
    "if nterms <= 0:\n",
    "   print(\"Please enter a positive integer\")\n",
    "elif nterms == 1:\n",
    "   print(\"Fibonacci sequence upto\",nterms,\":\")\n",
    "   print(n1)\n",
    "else:\n",
    "   print(\"Fibonacci sequence:\")\n",
    "   while count < nterms:\n",
    "       print(n1)\n",
    "       nth = n1 + n2\n",
    "       # update values\n",
    "       n1 = n2\n",
    "       n2 = nth\n",
    "       count += 1"
   ]
  },
  {
   "cell_type": "code",
   "execution_count": 9,
   "id": "932c104b-48ca-4dfc-b8dd-9579b0c35b02",
   "metadata": {},
   "outputs": [
    {
     "name": "stdout",
     "output_type": "stream",
     "text": [
      "{'a': 0, 'e': 1, 'i': 1, 'o': 1, 'u': 0}\n"
     ]
    }
   ],
   "source": [
    "#11Write a Python program to count the number of vowels in a given string using a for loop.\n",
    "\n",
    "vowels = 'aeiou'\n",
    "ip_str = 'Hello, pwskills'\n",
    "ip_str = ip_str.casefold()\n",
    "count = {}.fromkeys(vowels,0)\n",
    "for char in ip_str:\n",
    "   if char in count:\n",
    "       count[char] += 1\n",
    "\n",
    "print(count)"
   ]
  },
  {
   "cell_type": "code",
   "execution_count": 10,
   "id": "dd6f50af-7786-4718-8fd9-b2b25baa0f0d",
   "metadata": {},
   "outputs": [
    {
     "name": "stdout",
     "output_type": "stream",
     "text": [
      "12 x 1 = 12\n",
      "12 x 2 = 24\n",
      "12 x 3 = 36\n",
      "12 x 4 = 48\n",
      "12 x 5 = 60\n",
      "12 x 6 = 72\n",
      "12 x 7 = 84\n",
      "12 x 8 = 96\n",
      "12 x 9 = 108\n",
      "12 x 10 = 120\n"
     ]
    }
   ],
   "source": [
    "#12Create a Python program that generates a multiplication table for a given number using a for loop.\n",
    "\n",
    "num = 12\n",
    "for i in range(1, 11):\n",
    "   print(num, 'x', i, '=', num*i)"
   ]
  },
  {
   "cell_type": "code",
   "execution_count": 13,
   "id": "47c0a13b-aad6-4bed-9e98-135d5658e7ce",
   "metadata": {},
   "outputs": [
    {
     "name": "stdout",
     "output_type": "stream",
     "text": [
      "[15, 14, 13, 12, 11, 10]\n"
     ]
    }
   ],
   "source": [
    "#13Write a Python program to reverse a list using a for loop\n",
    "\n",
    "l = [10, 11, 12, 13, 14, 15]\n",
    "print(l[::-1])"
   ]
  },
  {
   "cell_type": "code",
   "execution_count": 14,
   "id": "9c03e8af-12e5-4e53-a556-8b3e698e7048",
   "metadata": {},
   "outputs": [
    {
     "name": "stdout",
     "output_type": "stream",
     "text": [
      "[3, 5]\n"
     ]
    }
   ],
   "source": [
    "#14Write a Python program to find the common elements between two lists using a for loop.\n",
    "\n",
    "a=[2,3,4,5]\n",
    "b=[3,5,7,9]\n",
    "def common(a,b): \n",
    "    c = [value for value in a if value in b] \n",
    "    return c\n",
    "d=common(a,b)\n",
    "print(d)"
   ]
  },
  {
   "cell_type": "code",
   "execution_count": 15,
   "id": "bcf54dfd-147b-4aaa-9341-46c4a257c31a",
   "metadata": {},
   "outputs": [
    {
     "name": "stdout",
     "output_type": "stream",
     "text": [
      "a juice\n",
      "b grill\n",
      "c corn\n"
     ]
    }
   ],
   "source": [
    "#15Explain how to use a for loop to iterate through the keys and values of a dictionary in Python.\n",
    "\n",
    "dt = {'a': 'juice', 'b': 'grill', 'c': 'corn'}\n",
    "for key, value in dt.items():\n",
    "    print(key, value)"
   ]
  },
  {
   "cell_type": "code",
   "execution_count": 16,
   "id": "6bd62f82-249b-4b05-8d2c-e38f0e06b589",
   "metadata": {},
   "outputs": [
    {
     "name": "stdout",
     "output_type": "stream",
     "text": [
      "The gcd of 60 and 48 is : 12\n"
     ]
    }
   ],
   "source": [
    "#16Write a Python program to find the GCD (Greatest Common Divisor) of two numbers using a for loop\n",
    "\n",
    "import math\n",
    "print(\"The gcd of 60 and 48 is : \", end=\"\")\n",
    "print(math.gcd(60, 48))"
   ]
  },
  {
   "cell_type": "code",
   "execution_count": 17,
   "id": "308e0bb1-5828-410e-8598-b0574790b8c7",
   "metadata": {},
   "outputs": [
    {
     "name": "stdout",
     "output_type": "stream",
     "text": [
      "Yes\n"
     ]
    }
   ],
   "source": [
    "#17Create a Python program that checks if a string is a palindrome using a for loop.\n",
    "\n",
    "def isPalindrome(s):\n",
    "    return s == s[::-1]\n",
    "s = \"malayalam\"\n",
    "ans = isPalindrome(s)\n",
    " \n",
    "if ans:\n",
    "    print(\"Yes\")\n",
    "else:\n",
    "    print(\"No\")"
   ]
  },
  {
   "cell_type": "code",
   "execution_count": 18,
   "id": "f2bd721b-2fea-49de-95ed-7c4c0ea3ad5f",
   "metadata": {},
   "outputs": [
    {
     "name": "stdout",
     "output_type": "stream",
     "text": [
      "[1, 2, 4, 6]\n"
     ]
    }
   ],
   "source": [
    "#18Write a Python program to remove duplicates from a list using a for loop.\n",
    "\n",
    "list_1 = [1, 2, 1, 4, 6]\n",
    "print(list(set(list_1)))"
   ]
  },
  {
   "cell_type": "code",
   "execution_count": 19,
   "id": "a011fb6f-1f2a-4329-b435-37ce2dd12d80",
   "metadata": {},
   "outputs": [
    {
     "name": "stdout",
     "output_type": "stream",
     "text": [
      "The original string is : pwskills\n",
      "The number of words in string are : 1\n",
      "The number of words in string are :  8\n"
     ]
    }
   ],
   "source": [
    "#19Create a Python program that counts the number of words in a sentence using a for loop.\n",
    "\n",
    "test_string = \"pwskills\"\n",
    "print(\"The original string is : \" + test_string)\n",
    "res = len(test_string.split())\n",
    "\n",
    "print(\"The number of words in string are : \" + str(res))\n",
    "print(\"The number of words in string are : \", len(test_string))"
   ]
  },
  {
   "cell_type": "code",
   "execution_count": 20,
   "id": "56a392fc-fbdb-425f-813b-c546306b5d73",
   "metadata": {},
   "outputs": [
    {
     "name": "stdout",
     "output_type": "stream",
     "text": [
      "The original list is : [345, 893, 1948, 34, 2346]\n",
      "Odd digit sum : 36\n",
      "Even digit sum : 40\n"
     ]
    }
   ],
   "source": [
    "#20Write a Python program to find the sum of all odd numbers from 1 to 50 using a for loop.\n",
    "\n",
    "test_list = [345, 893, 1948, 34, 2346]\n",
    "print(\"The original list is : \" + str(test_list))\n",
    "odd_sum = 0\n",
    "even_sum = 0\n",
    "for sub in test_list:\n",
    "    for ele in str(sub):\n",
    "        if int(ele) % 2 == 0:\n",
    "            even_sum += int(ele)\n",
    "        else:\n",
    "            odd_sum += int(ele)\n",
    "print(\"Odd digit sum : \" + str(odd_sum))\n",
    "print(\"Even digit sum : \" + str(even_sum))"
   ]
  },
  {
   "cell_type": "code",
   "execution_count": 21,
   "id": "9ac673bf-0ecc-417f-959b-44001207463f",
   "metadata": {},
   "outputs": [
    {
     "name": "stdout",
     "output_type": "stream",
     "text": [
      "2000 is a leap year\n"
     ]
    }
   ],
   "source": [
    "#21Write a Python program that checks if a given year is a leap year using a for loop.\n",
    "\n",
    "year = 2000\n",
    "if (year % 400 == 0) and (year % 100 == 0):\n",
    "    print(\"{0} is a leap year\".format(year))\n",
    "elif (year % 4 ==0) and (year % 100 != 0):\n",
    "    print(\"{0} is a leap year\".format(year))\n",
    "else:\n",
    "    print(\"{0} is not a leap year\".format(year))"
   ]
  },
  {
   "cell_type": "code",
   "execution_count": 22,
   "id": "0e1bba69-43a8-4a16-a96a-b23ec6d45611",
   "metadata": {},
   "outputs": [
    {
     "name": "stdout",
     "output_type": "stream",
     "text": [
      "3\n"
     ]
    }
   ],
   "source": [
    "#22Create a Python program that calculates the square root of a number using a for loop\n",
    "\n",
    "def floorSqrt(x):\n",
    "    if (x == 0 or x == 1):\n",
    "        return x\n",
    "    i = 1\n",
    "    result = 1\n",
    "    while (result <= x):\n",
    "        i += 1\n",
    "        result = i * i\n",
    "    return i - 1\n",
    "x = 11\n",
    "print(floorSqrt(x))"
   ]
  },
  {
   "cell_type": "code",
   "execution_count": 23,
   "id": "53d6ee0f-dde4-4474-bd14-6c44c1159cd7",
   "metadata": {},
   "outputs": [
    {
     "name": "stdout",
     "output_type": "stream",
     "text": [
      "The L.C.M. is 216\n"
     ]
    }
   ],
   "source": [
    "#23Write a Python program to find the LCM (Least Common Multiple) of two numbers using a for loop.\n",
    "\n",
    "def compute_lcm(x, y):\n",
    "   if x > y:\n",
    "       greater = x\n",
    "   else:\n",
    "       greater = y\n",
    "   while(True):\n",
    "       if((greater % x == 0) and (greater % y == 0)):\n",
    "           lcm = greater\n",
    "           break\n",
    "       greater += 1\n",
    "   return lcm\n",
    "num1 = 54\n",
    "num2 = 24\n",
    "\n",
    "print(\"The L.C.M. is\", compute_lcm(num1, num2))"
   ]
  },
  {
   "cell_type": "code",
   "execution_count": 1,
   "id": "72f9d422-b4a0-440a-964c-2739ea8990f5",
   "metadata": {},
   "outputs": [
    {
     "name": "stdin",
     "output_type": "stream",
     "text": [
      "Enter a number:  7\n"
     ]
    },
    {
     "name": "stdout",
     "output_type": "stream",
     "text": [
      "Positive number\n"
     ]
    }
   ],
   "source": [
    "#24Write a Python program to check if a number is positive, negative, or zero using an if-else statement.\n",
    "\n",
    "num = float(input(\"Enter a number: \"))\n",
    "if num > 0:\n",
    "   print(\"Positive number\")\n",
    "elif num == 0:\n",
    "   print(\"Zero\")\n",
    "else:\n",
    "   print(\"Negative number\")"
   ]
  },
  {
   "cell_type": "code",
   "execution_count": 2,
   "id": "67354c04-c5d6-46bf-8f5e-565431568e57",
   "metadata": {},
   "outputs": [
    {
     "name": "stdin",
     "output_type": "stream",
     "text": [
      "Enter a number:  7\n"
     ]
    },
    {
     "name": "stdout",
     "output_type": "stream",
     "text": [
      "7 is Odd\n"
     ]
    }
   ],
   "source": [
    "#25Create a Python program that checks if a given number is even or odd using an if-else statement.\n",
    "\n",
    "num = int(input(\"Enter a number: \"))\n",
    "if (num % 2) == 0:\n",
    "   print(\"{0} is Even\".format(num))\n",
    "else:\n",
    "   print(\"{0} is Odd\".format(num))"
   ]
  },
  {
   "cell_type": "code",
   "execution_count": 3,
   "id": "e30572d8-97e8-4b74-8256-ed18b4048a18",
   "metadata": {},
   "outputs": [
    {
     "name": "stdout",
     "output_type": "stream",
     "text": [
      "10 greater than 5\n",
      "Program ended\n"
     ]
    }
   ],
   "source": [
    "#26How can you use nested if-else statements in Python, and provide an example?\n",
    "\n",
    "if 10 > 5:\n",
    "   print(\"10 greater than 5\")\n",
    " \n",
    "print(\"Program ended\")"
   ]
  },
  {
   "cell_type": "code",
   "execution_count": 4,
   "id": "a4d742f3-8931-425b-9752-6bbe7d2be7e8",
   "metadata": {},
   "outputs": [
    {
     "name": "stdout",
     "output_type": "stream",
     "text": [
      "The largest number is 14\n"
     ]
    }
   ],
   "source": [
    "#27Write a Python program to determine the largest of three numbers using if-else\n",
    "\n",
    "num1 = 10\n",
    "num2 = 14\n",
    "num3 = 12\n",
    "if (num1 >= num2) and (num1 >= num3):\n",
    "   largest = num1\n",
    "elif (num2 >= num1) and (num2 >= num3):\n",
    "   largest = num2\n",
    "else:\n",
    "   largest = num3\n",
    "\n",
    "print(\"The largest number is\", largest)"
   ]
  },
  {
   "cell_type": "code",
   "execution_count": 5,
   "id": "74b87ea3-1b50-424a-bb99-aa2f00abee01",
   "metadata": {},
   "outputs": [
    {
     "name": "stdout",
     "output_type": "stream",
     "text": [
      "12\n"
     ]
    }
   ],
   "source": [
    "#28Write a Python program that calculates the absolute value of a number using if-else\n",
    "\n",
    "def findAbsolute(N):\n",
    "\tif (N < 0):\n",
    "\t\tN = (-1) * N;\n",
    "\tprint(N);\n",
    "if __name__ == '__main__':\n",
    "\tN = -12;\n",
    "\tfindAbsolute(N);"
   ]
  },
  {
   "cell_type": "code",
   "execution_count": 6,
   "id": "fadb734a-a571-4743-afc4-3123cc168e58",
   "metadata": {},
   "outputs": [
    {
     "name": "stdout",
     "output_type": "stream",
     "text": [
      "Consonant\n",
      "Vowel\n"
     ]
    }
   ],
   "source": [
    "#29Create a Python program that checks if a given character is a vowel or consonant using if-else.\n",
    "\n",
    "def vowelOrConsonant(x):\n",
    "\tif (x == 'a' or x == 'e' or\n",
    "\t\tx == 'i' or x == 'o' or x == 'u'):\n",
    "\t\tprint(\"Vowel\")\n",
    "\telse:\n",
    "\t\tprint(\"Consonant\")\n",
    "vowelOrConsonant('c')\n",
    "vowelOrConsonant('e')"
   ]
  },
  {
   "cell_type": "code",
   "execution_count": 8,
   "id": "2b80543b-6fed-4588-a3e1-29375304ca10",
   "metadata": {},
   "outputs": [
    {
     "name": "stdout",
     "output_type": "stream",
     "text": [
      "6\n"
     ]
    }
   ],
   "source": [
    "#30Write a Python program to check if a number is within a specified range using if-else.\n",
    "\n",
    "def count(list1, l, r):\n",
    "\tc = 0\n",
    "\tfor x in list1:\n",
    "\t\tif x>= l and x<= r:\n",
    "\t\t\tc+= 1\n",
    "\treturn c\n",
    "list1 = [10, 20, 30, 40, 50, 40, 40, 60, 70]\n",
    "l = 40\n",
    "r = 80\n",
    "print (count(list1, l, r))"
   ]
  },
  {
   "cell_type": "code",
   "execution_count": 9,
   "id": "3f58a8ca-cda3-4c1e-9893-08e2b4a1f249",
   "metadata": {},
   "outputs": [
    {
     "name": "stdout",
     "output_type": "stream",
     "text": [
      "Enter Marks Obtained in 5 Subjects: \n",
      "Your Grade is B1\n"
     ]
    }
   ],
   "source": [
    "#31Create a Python program that determines the grade of a student based on their score using if-else.\n",
    "\n",
    "print(\"Enter Marks Obtained in 5 Subjects: \")\n",
    "total1 = 44\n",
    "total2 = 67\n",
    "total3 = 76\n",
    "total4 = 99\n",
    "total5 = 58\n",
    "\n",
    "tot = total1 + total2 + total3 + total4 + total4\n",
    "avg = tot / 5\n",
    "\n",
    "if avg >= 91 and avg <= 100:\n",
    "\tprint(\"Your Grade is A1\")\n",
    "elif avg >= 81 and avg < 91:\n",
    "\tprint(\"Your Grade is A2\")\n",
    "elif avg >= 71 and avg < 81:\n",
    "\tprint(\"Your Grade is B1\")\n",
    "elif avg >= 61 and avg < 71:\n",
    "\tprint(\"Your Grade is B2\")\n",
    "elif avg >= 51 and avg < 61:\n",
    "\tprint(\"Your Grade is C1\")\n",
    "elif avg >= 41 and avg < 51:\n",
    "\tprint(\"Your Grade is C2\")\n",
    "elif avg >= 33 and avg < 41:\n",
    "\tprint(\"Your Grade is D\")\n",
    "elif avg >= 21 and avg < 33:\n",
    "\tprint(\"Your Grade is E1\")\n",
    "elif avg >= 0 and avg < 21:\n",
    "\tprint(\"Your Grade is E2\")\n",
    "else:\n",
    "\tprint(\"Invalid Input!\")"
   ]
  },
  {
   "cell_type": "code",
   "execution_count": 10,
   "id": "8319a845-ed02-45f3-9a34-66eafac51844",
   "metadata": {},
   "outputs": [
    {
     "name": "stdout",
     "output_type": "stream",
     "text": [
      "The zero length string without spaces is empty ? : Yes\n",
      "The zero length string with just spaces is empty ? : No\n"
     ]
    }
   ],
   "source": [
    "#32Write a Python program to check if a string is empty or not using if-else.\n",
    "\n",
    "test_str1 = \"\"\n",
    "test_str2 = \" \"\n",
    "print(\"The zero length string without spaces is empty ? : \", end=\"\")\n",
    "if(len(test_str1) == 0):\n",
    "\tprint(\"Yes\")\n",
    "else:\n",
    "\tprint(\"No\")\n",
    "print(\"The zero length string with just spaces is empty ? : \", end=\"\")\n",
    "if(len(test_str2) == 0):\n",
    "\tprint(\"Yes\")\n",
    "else:\n",
    "\tprint(\"No\")"
   ]
  },
  {
   "cell_type": "code",
   "execution_count": 12,
   "id": "29b7e49d-ad28-4339-b90b-7712ae42f79c",
   "metadata": {},
   "outputs": [
    {
     "name": "stdout",
     "output_type": "stream",
     "text": [
      "Scalene Triangle\n"
     ]
    }
   ],
   "source": [
    "#33Create a Python program that identifies the type of a triangle (e.g., equilateral, isosceles, or scalene) based on input values using if-else.\n",
    "\n",
    "def checkTriangle(x, y, z):\n",
    "\tif x == y == z:\n",
    "\t\tprint(\"Equilateral Triangle\")\n",
    "\telif x == y or y == z or z == x:\n",
    "\t\tprint(\"Isosceles Triangle\")\n",
    "\telse:\n",
    "\t\tprint(\"Scalene Triangle\")\n",
    "x = 8\n",
    "y = 7\n",
    "z = 9\n",
    "checkTriangle(x, y, z)"
   ]
  },
  {
   "cell_type": "code",
   "execution_count": 13,
   "id": "577c9448-d317-499d-8358-e60de45c4c7d",
   "metadata": {},
   "outputs": [
    {
     "name": "stdout",
     "output_type": "stream",
     "text": [
      "Sunday\n"
     ]
    }
   ],
   "source": [
    "#34Write a Python program to determine the day of the week based on a user-provided number using if-else.\n",
    "\n",
    "import datetime\n",
    "import calendar\n",
    "\n",
    "def findDay(date):\n",
    "\tborn = datetime.datetime.strptime(date, '%d %m %Y').weekday()\n",
    "\treturn (calendar.day_name[born])\n",
    "date = '03 02 2019'\n",
    "print(findDay(date))"
   ]
  },
  {
   "cell_type": "code",
   "execution_count": 14,
   "id": "007adcca-5a1d-4fd9-9250-9def880b10f3",
   "metadata": {},
   "outputs": [
    {
     "name": "stdout",
     "output_type": "stream",
     "text": [
      "2000 is a leap year\n"
     ]
    }
   ],
   "source": [
    "#35Create a Python program that checks if a given year is a leap year using both if-else and a function\n",
    "\n",
    "year = 2000\n",
    "if (year % 400 == 0) and (year % 100 == 0):\n",
    "    print(\"{0} is a leap year\".format(year))\n",
    "elif (year % 4 ==0) and (year % 100 != 0):\n",
    "    print(\"{0} is a leap year\".format(year))\n",
    "else:\n",
    "    print(\"{0} is not a leap year\".format(year))"
   ]
  },
  {
   "cell_type": "code",
   "execution_count": 17,
   "id": "dcc6a9c9-abab-4d4e-b6c6-92af965cb201",
   "metadata": {},
   "outputs": [
    {
     "name": "stdout",
     "output_type": "stream",
     "text": [
      "A is an UpperCase character\n",
      "a is an LowerCase character\n",
      "0 is not an alphabetic character\n"
     ]
    }
   ],
   "source": [
    "#36Write a Python program to categorize a given character as uppercase, lowercase, or neither using if-else.\n",
    "\n",
    "def check(ch):\n",
    "\n",
    "\tif (ch >= 'A' and ch <= 'Z'):\n",
    "\t\tprint(ch,\"is an UpperCase character\");\n",
    "\n",
    "\telif (ch >= 'a' and ch <= 'z'):\n",
    "\t\tprint(ch,\"is an LowerCase character\");\n",
    "\telse:\n",
    "\t\tprint(ch,\"is not an alphabetic character\");\n",
    "ch = 'A';\n",
    "check(ch);\n",
    "ch = 'a';\n",
    "check(ch);\n",
    "ch = '0';\n",
    "check(ch);"
   ]
  },
  {
   "cell_type": "code",
   "execution_count": 18,
   "id": "cc0ce4df-c0c0-42fd-b5d3-182bcff1c63c",
   "metadata": {},
   "outputs": [
    {
     "name": "stdout",
     "output_type": "stream",
     "text": [
      "real and different roots\n",
      "2.0\n",
      "-12.0\n"
     ]
    }
   ],
   "source": [
    "#37Write a Python program to determine the roots of a quadratic equation using if-else\n",
    "\n",
    "import math\n",
    "def equationroots( a, b, c):\n",
    "\tdis = b * b - 4 * a * c\n",
    "\tsqrt_val = math.sqrt(abs(dis))\n",
    "\tif dis > 0:\n",
    "\t\tprint(\"real and different roots\")\n",
    "\t\tprint((-b + sqrt_val)/(2 * a))\n",
    "\t\tprint((-b - sqrt_val)/(2 * a))\n",
    "\t\n",
    "\telif dis == 0:\n",
    "\t\tprint(\"real and same roots\")\n",
    "\t\tprint(-b / (2 * a))\n",
    "\telse:\n",
    "\t\tprint(\"Complex Roots\")\n",
    "\t\tprint(- b / (2 * a), + i, sqrt_val)\n",
    "\t\tprint(- b / (2 * a), - i, sqrt_val)\n",
    "a = 1\n",
    "b = 10\n",
    "c = -24\n",
    "if a == 0:\n",
    "\t\tprint(\"Input correct quadratic equation\")\n",
    "else:\n",
    "\tequationroots(a, b, c)"
   ]
  },
  {
   "cell_type": "code",
   "execution_count": 19,
   "id": "48204b66-8a3e-4805-a1ee-197e623c2bcf",
   "metadata": {},
   "outputs": [
    {
     "name": "stdout",
     "output_type": "stream",
     "text": [
      "21 century\n"
     ]
    }
   ],
   "source": [
    "#38Create a Python program that checks if a given year is a century year or not using if-else.\n",
    "\n",
    "def find_century(year):\n",
    "\tif (year <= 0):\n",
    "\t\tprint(\"0 and negative is not allow for a year\")\n",
    "\telif (year <= 100):\n",
    "\t\tprint(\"1st century\")\n",
    "\telif (year % 100 == 0):\n",
    "\t\tprint(year // 100,\"century\")\n",
    "\telse:\n",
    "\t\tprint(year // 100 + 1,\"century\")\n",
    "year = 2001\n",
    "find_century(year)"
   ]
  },
  {
   "cell_type": "code",
   "execution_count": 20,
   "id": "1c5e3d11-ce97-4bbc-b028-9e9fbf19cb69",
   "metadata": {},
   "outputs": [
    {
     "name": "stdout",
     "output_type": "stream",
     "text": [
      "No\n"
     ]
    }
   ],
   "source": [
    "#39Write a Python program to determine if a given number is a perfect square using if-else.\n",
    "\n",
    "import math\n",
    "def isPerfectSquare(x):\n",
    "\tif(x >= 0):\n",
    "\t\tsr = int(math.sqrt(x))\n",
    "\t\treturn ((sr*sr) == x)\n",
    "\treturn false\n",
    "x = 2502\n",
    "if (isPerfectSquare(x)):\n",
    "\tprint(\"Yes\")\n",
    "else:\n",
    "\tprint(\"No\")"
   ]
  },
  {
   "cell_type": "code",
   "execution_count": 21,
   "id": "b497a4f2-0cfd-4f0d-97f9-2a069a07f8a2",
   "metadata": {},
   "outputs": [
    {
     "name": "stdout",
     "output_type": "stream",
     "text": [
      "p\n",
      "w\n",
      "s\n",
      "Out of for loop\n",
      "\n",
      "p\n",
      "w\n",
      "s\n",
      "Out of while loop\n"
     ]
    }
   ],
   "source": [
    "#40Explain the purpose of the \"continue\" and \"break\" statements within if-else loops.\n",
    "\n",
    "s = 'pwskills'\n",
    "for letter in s:\n",
    "\tprint(letter)\n",
    "\tif letter == 'e' or letter == 's':\n",
    "\t\tbreak\n",
    "print(\"Out of for loop\")\n",
    "print()\n",
    "i = 0\n",
    "while True:\n",
    "\tprint(s[i])\n",
    "\tif s[i] == 'e' or s[i] == 's':\n",
    "\t\tbreak\n",
    "\ti += 1\n",
    "print(\"Out of while loop\")"
   ]
  },
  {
   "cell_type": "code",
   "execution_count": 22,
   "id": "deb2062a-36b7-4a69-80e8-fb7c30581add",
   "metadata": {},
   "outputs": [
    {
     "name": "stdout",
     "output_type": "stream",
     "text": [
      "The BMI is 21.64532402096181 so Healthy\n"
     ]
    }
   ],
   "source": [
    "#41Create a Python program that calculates the BMI (Body Mass Index) of a person based on their weight and height using if-else.\n",
    "\n",
    "def BMI(height, weight):\n",
    "\tbmi = weight/(height**2)\n",
    "\treturn bmi\n",
    "height = 1.79832\n",
    "weight = 70\n",
    "bmi = BMI(height, weight)\n",
    "print(\"The BMI is\", format(bmi), \"so \", end='')\n",
    "if (bmi < 18.5):\n",
    "\tprint(\"underweight\")\n",
    "elif ( bmi >= 18.5 and bmi < 24.9):\n",
    "\tprint(\"Healthy\")\n",
    "elif ( bmi >= 24.9 and bmi < 30):\n",
    "\tprint(\"overweight\")\n",
    "elif ( bmi >=30):\n",
    "\tprint(\"Suffering from Obesity\")"
   ]
  },
  {
   "cell_type": "code",
   "execution_count": 23,
   "id": "c5e6fa0e-dfdf-4ff7-80a1-0d4d0de29a54",
   "metadata": {},
   "outputs": [
    {
     "name": "stdout",
     "output_type": "stream",
     "text": [
      "[2, 4, 6, 8, 10]\n"
     ]
    }
   ],
   "source": [
    "#42How can you use the \"filter()\" function with if-else statements to filter elements from a list?\n",
    "\n",
    "def check_even(number):\n",
    "    if number % 2 == 0:\n",
    "          return True  \n",
    "    return False\n",
    "numbers = [1, 2, 3, 4, 5, 6, 7, 8, 9, 10]\n",
    "even_numbers_iterator = filter(check_even, numbers)\n",
    "even_numbers = list(even_numbers_iterator)\n",
    "print(even_numbers)"
   ]
  },
  {
   "cell_type": "code",
   "execution_count": 24,
   "id": "5d177451-0245-4b24-9bf6-01a6030264aa",
   "metadata": {},
   "outputs": [
    {
     "name": "stdout",
     "output_type": "stream",
     "text": [
      "11 is a prime number\n"
     ]
    }
   ],
   "source": [
    "#43Write a Python program to determine if a given number is prime or not using if-else.\n",
    "\n",
    "\n",
    "num = 11\n",
    "if num > 1:\n",
    "\tfor i in range(2, int(num/2)+1):\n",
    "\t\tif (num % i) == 0:\n",
    "\t\t\tprint(num, \"is not a prime number\")\n",
    "\t\t\tbreak\n",
    "\telse:\n",
    "\t\tprint(num, \"is a prime number\")\n",
    "else:\n",
    "\tprint(num, \"is not a prime number\")"
   ]
  },
  {
   "cell_type": "code",
   "execution_count": 1,
   "id": "63575f0c-b396-49f9-9817-461fa5d7f6b5",
   "metadata": {},
   "outputs": [
    {
     "name": "stdout",
     "output_type": "stream",
     "text": [
      "[2, 4, 6, 8]\n"
     ]
    }
   ],
   "source": [
    "#44Explain the purpose of the `map()` function in Python and provide an example of how it can be used to apply a function to each element of an iterable\n",
    "\n",
    "def addition(n):\n",
    "\treturn n + n\n",
    "numbers = (1, 2, 3, 4)\n",
    "result = map(addition, numbers)\n",
    "print(list(result))"
   ]
  },
  {
   "cell_type": "code",
   "execution_count": 2,
   "id": "3fdcc405-87f9-4fc8-899e-b0038ca0401b",
   "metadata": {},
   "outputs": [
    {
     "name": "stdout",
     "output_type": "stream",
     "text": [
      "<map object at 0x7f1ac97f29b0>\n",
      "[4, 88, 11.0, 12, -14]\n"
     ]
    }
   ],
   "source": [
    "#45How does the `map()` function differ from a list comprehension in Python, and when would you choose one over the other\n",
    "\n",
    "def num (n) :\n",
    "\treturn n * 2\t\n",
    "lst = [2, 44, 5.5, 6, -7]\n",
    "x = map(num, lst)\n",
    "print(x)\n",
    "print(list(x))"
   ]
  },
  {
   "cell_type": "code",
   "execution_count": 5,
   "id": "b677ec27-3fad-4845-968d-ef8c872171d6",
   "metadata": {},
   "outputs": [
    {
     "name": "stdout",
     "output_type": "stream",
     "text": [
      "['p', 'w', 'skills']\n"
     ]
    }
   ],
   "source": [
    "#46Create a Python program that uses the `map()` function to convert a list of names to uppercase.\n",
    "\n",
    "out = map(lambda x:x.lower(), ['p', 'W', 'sKiLLS'])\n",
    "output = list(out)\n",
    "print(output)"
   ]
  },
  {
   "cell_type": "code",
   "execution_count": 6,
   "id": "1bc1576b-9937-47b2-b78f-cfbf92817634",
   "metadata": {},
   "outputs": [
    {
     "name": "stdout",
     "output_type": "stream",
     "text": [
      "The original string is : pwskills\n",
      "The list of words lengths is : [8]\n"
     ]
    }
   ],
   "source": [
    "#47Write a Python program that uses the `map()` function to calculate the length of each word in a list of strings\n",
    "\n",
    "test_string = \"pwskills\"\n",
    "print(\"The original string is : \" + test_string)\n",
    "res = list(map(len, test_string.split()))\n",
    "print(\"The list of words lengths is : \" + str(res))"
   ]
  },
  {
   "cell_type": "code",
   "execution_count": 7,
   "id": "4e35c32b-778b-4bcf-86d0-78e1e39f2179",
   "metadata": {},
   "outputs": [
    {
     "name": "stdout",
     "output_type": "stream",
     "text": [
      "[2, 4, 6]\n"
     ]
    }
   ],
   "source": [
    "#48How can you use the `map()` function to apply a custom function to elements of multiple lists simultaneously in Python?\n",
    "\n",
    "def double(integer):\n",
    "\treturn integer*2\n",
    "integer_list = [1, 2, 3]\n",
    "output_list = list(map(double, integer_list))\n",
    "print(output_list)"
   ]
  },
  {
   "cell_type": "code",
   "execution_count": 1,
   "id": "a531afe7-4f08-413e-8fa8-5ae5a91a0d8a",
   "metadata": {},
   "outputs": [
    {
     "name": "stdout",
     "output_type": "stream",
     "text": [
      "37.5 degree Celsius is equal to 99.5 degree Fahrenheit\n"
     ]
    }
   ],
   "source": [
    "#49Create a Python program that uses `map()` to convert a list of temperatures from Celsius to Fahrenheit\n",
    "\n",
    "celsius = 37.5\n",
    "fahrenheit = (celsius * 1.8) + 32\n",
    "print('%0.1f degree Celsius is equal to %0.1f degree Fahrenheit' %(celsius,fahrenheit))"
   ]
  },
  {
   "cell_type": "code",
   "execution_count": 3,
   "id": "5b3c402b-c899-47f7-868a-42b3701d4526",
   "metadata": {},
   "outputs": [
    {
     "name": "stdout",
     "output_type": "stream",
     "text": [
      "111\n"
     ]
    }
   ],
   "source": [
    "#50Write a Python program that uses the `map()` function to round each element of a list of floating-point numbers to the nearest integer.\n",
    "\n",
    "number = 111.23\n",
    "rounded_number = round(number)\n",
    "print(rounded_number)"
   ]
  },
  {
   "cell_type": "code",
   "execution_count": 1,
   "id": "e6aaf69f-d040-41b0-83af-9b27ef52c976",
   "metadata": {},
   "outputs": [
    {
     "name": "stdout",
     "output_type": "stream",
     "text": [
      "The sum of the list elements is : 17\n",
      "The maximum element of the list is : 6\n"
     ]
    }
   ],
   "source": [
    "#51What is the `reduce()` function in Python, and what module should you import to use it? Provide an example of its basic usage\n",
    "\n",
    "import functools\n",
    "lis = [1, 3, 5, 6, 2]\n",
    "print(\"The sum of the list elements is : \", end=\"\")\n",
    "print(functools.reduce(lambda a, b: a+b, lis))\n",
    "print(\"The maximum element of the list is : \", end=\"\")\n",
    "print(functools.reduce(lambda a, b: a if a > b else b, lis))"
   ]
  },
  {
   "cell_type": "code",
   "execution_count": 2,
   "id": "87ff0190-b3db-4866-9fd3-1f5a192ce113",
   "metadata": {},
   "outputs": [
    {
     "name": "stdout",
     "output_type": "stream",
     "text": [
      "6\n",
      "24\n"
     ]
    }
   ],
   "source": [
    "#52Write a Python program that uses the `reduce()` function to find the product of all elements in a list\n",
    "\n",
    "def multiplyList(myList):\n",
    "    result = 1\n",
    "    for x in myList:\n",
    "        result = result * x\n",
    "    return result\n",
    "list1 = [1, 2, 3]\n",
    "list2 = [3, 2, 4]\n",
    "print(multiplyList(list1))\n",
    "print(multiplyList(list2))"
   ]
  },
  {
   "cell_type": "code",
   "execution_count": 3,
   "id": "b203dcb8-77cf-406e-945f-886d20a5f4d8",
   "metadata": {},
   "outputs": [
    {
     "name": "stdout",
     "output_type": "stream",
     "text": [
      "Largest element is: 99\n"
     ]
    }
   ],
   "source": [
    "#53Create a Python program that uses `reduce()` to find the maximum element in a list of numbers\n",
    "\n",
    "list1 = [10, 20, 4, 45, 99]\n",
    "list1.sort()\n",
    "print(\"Largest element is:\", list1[-1])"
   ]
  },
  {
   "cell_type": "code",
   "execution_count": 4,
   "id": "f3ee23d6-ac2f-4042-af91-8b715d986094",
   "metadata": {},
   "outputs": [
    {
     "name": "stdout",
     "output_type": "stream",
     "text": [
      "  hello p w skills\n"
     ]
    }
   ],
   "source": [
    "#54How can you use the `reduce()` function to concatenate a list of strings into a single string?\n",
    "\n",
    "l = [ 'hello','p','w','skills']\n",
    "ans = ' '\n",
    "for i in l:\n",
    "    ans = ans+ ' '+ i\n",
    "print(ans)"
   ]
  },
  {
   "cell_type": "code",
   "execution_count": 2,
   "id": "bb466bfa-870b-4857-9783-14350c9cde7c",
   "metadata": {},
   "outputs": [
    {
     "name": "stdout",
     "output_type": "stream",
     "text": [
      "Factorial of 5 is 120\n"
     ]
    }
   ],
   "source": [
    "#55Write a Python program that calculates the factorial of a number using the `reduce()` function.\n",
    "\n",
    "def factorial(n):\n",
    "    return 1 if (n==1 or n==0) else n * factorial(n - 1)\n",
    "num = 5\n",
    "print(\"Factorial of\",num,\"is\",factorial(num))"
   ]
  },
  {
   "cell_type": "code",
   "execution_count": 3,
   "id": "8afef0a0-28b2-453f-b799-bfbbddccdeae",
   "metadata": {},
   "outputs": [
    {
     "name": "stdout",
     "output_type": "stream",
     "text": [
      "The gcd of 60 and 48 is : 12\n"
     ]
    }
   ],
   "source": [
    "#56Create a Python program that uses `reduce()` to find the GCD (Greatest Common Divisor) of a list of numbers\n",
    "\n",
    "import math\n",
    "print(\"The gcd of 60 and 48 is : \", end=\"\")\n",
    "print(math.gcd(60, 48))"
   ]
  },
  {
   "cell_type": "code",
   "execution_count": 4,
   "id": "826e5b17-7f53-49b0-a35f-87edec4ad03e",
   "metadata": {},
   "outputs": [
    {
     "name": "stdout",
     "output_type": "stream",
     "text": [
      "The sum of the list elements is : 17\n",
      "The maximum element of the list is : 6\n"
     ]
    }
   ],
   "source": [
    "#57Write a Python program that uses the `reduce()` function to find the sum of the digits of a given number.\n",
    "\n",
    "import functools\n",
    "lis = [1, 3, 5, 6, 2]\n",
    "print(\"The sum of the list elements is : \", end=\"\")\n",
    "print(functools.reduce(lambda a, b: a+b, lis))\n",
    "print(\"The maximum element of the list is : \", end=\"\")\n",
    "print(functools.reduce(lambda a, b: a if a > b else b, lis))"
   ]
  },
  {
   "cell_type": "code",
   "execution_count": 5,
   "id": "10012c85-2c14-4d32-a47a-a03cef4f9c37",
   "metadata": {},
   "outputs": [
    {
     "name": "stdout",
     "output_type": "stream",
     "text": [
      "The filtered letters are:\n",
      "i\n"
     ]
    }
   ],
   "source": [
    "#58Explain the purpose of the `filter()` function in Python and provide an example of how it can be used to filter elements from an iterable.\n",
    "\n",
    "def fun(variable):\n",
    "    letters = ['a', 'e', 'i', 'o', 'u']\n",
    "    if (variable in letters):\n",
    "        return True\n",
    "    else:\n",
    "        return False\n",
    "sequence = ['p','w','s','k','i','l','l','s']\n",
    "filtered = filter(fun, sequence)\n",
    " \n",
    "print('The filtered letters are:')\n",
    "for s in filtered:\n",
    "    print(s)"
   ]
  },
  {
   "cell_type": "code",
   "execution_count": 6,
   "id": "e48eb390-e941-4987-bf07-1541f77c0222",
   "metadata": {},
   "outputs": [
    {
     "name": "stdout",
     "output_type": "stream",
     "text": [
      "[2, 4]\n"
     ]
    }
   ],
   "source": [
    "#59Write a Python program that uses the `filter()` function to select even numbers from a list of integers.\n",
    "\n",
    "lis = [1, 2, 3, 4, 5]\n",
    "out = []\n",
    " \n",
    "for num in lis:\n",
    "    if num % 2 == 0:\n",
    "        out.append(num)\n",
    "print(out)"
   ]
  },
  {
   "cell_type": "code",
   "execution_count": 9,
   "id": "6146e818-e5b5-4e14-a8a3-8e182ed8a0f4",
   "metadata": {},
   "outputs": [
    {
     "name": "stdout",
     "output_type": "stream",
     "text": [
      "The original list : ['sapple', 'orange', 'smango', 'grape']\n",
      "The list without prefix s : ['orange', 'grape']\n",
      "The list with prefix s : ['sapple', 'smango']\n"
     ]
    }
   ],
   "source": [
    "#60 Create a Python program that uses the `filter()` function to select names that start with a specific letter from a list of strings.\n",
    "\n",
    "\n",
    "test_list = ['sapple', 'orange', 'smango', 'grape']\n",
    "start_letter = 's'\n",
    "print(\"The original list : \" + str(test_list))\n",
    "with_s = [x for x in test_list if x.startswith(start_letter)]\n",
    "without_s = [x for x in test_list if x not in with_s]\n",
    "print(\"The list without prefix s : \" + str(without_s))\n",
    "print(\"The list with prefix s : \" + str(with_s))"
   ]
  },
  {
   "cell_type": "code",
   "execution_count": 1,
   "id": "72b23fed-2da3-4016-ba86-d008d54f88b0",
   "metadata": {},
   "outputs": [
    {
     "name": "stdout",
     "output_type": "stream",
     "text": [
      "Factorial of 5 using Recursion is: 120\n",
      "Factorial of 5 using Iteration is: 120\n"
     ]
    }
   ],
   "source": [
    "#61Explain the concept of recursion in Python. How does it differ from iteration?\n",
    "\n",
    "def factorialUsingRecursion(n):\n",
    "    if (n == 0):\n",
    "        return 1;\n",
    "    return n * factorialUsingRecursion(n - 1);\n",
    "def factorialUsingIteration(n):\n",
    "    res = 1;\n",
    "    for i in range(2, n + 1):\n",
    "        res *= i;\n",
    "    return res;\n",
    "num = 5;\n",
    "print(\"Factorial of\",num,\"using Recursion is:\",\n",
    "                    factorialUsingRecursion(5));\n",
    " \n",
    "print(\"Factorial of\",num,\"using Iteration is:\",\n",
    "                    factorialUsingIteration(5));"
   ]
  },
  {
   "cell_type": "code",
   "execution_count": 2,
   "id": "a20f465f-9c13-4368-8c07-03436d02bf2b",
   "metadata": {},
   "outputs": [
    {
     "name": "stdout",
     "output_type": "stream",
     "text": [
      "The factorial of 7 is 5040\n"
     ]
    }
   ],
   "source": [
    "#62Write a Python program to calculate the factorial of a number using recursion.\n",
    "\n",
    "def recur_factorial(n):\n",
    "   if n == 1:\n",
    "       return n\n",
    "   else:\n",
    "       return n*recur_factorial(n-1)\n",
    "num = 7\n",
    "if num < 0:\n",
    "   print(\"Sorry, factorial does not exist for negative numbers\")\n",
    "elif num == 0:\n",
    "   print(\"The factorial of 0 is 1\")\n",
    "else:\n",
    "   print(\"The factorial of\", num, \"is\", recur_factorial(num))"
   ]
  },
  {
   "cell_type": "code",
   "execution_count": 3,
   "id": "61857f06-5c26-44ce-a02b-b658ad6a3d42",
   "metadata": {},
   "outputs": [
    {
     "name": "stdout",
     "output_type": "stream",
     "text": [
      "34\n"
     ]
    }
   ],
   "source": [
    "#63Create a recursive Python function to find the nth Fibonacci number.\n",
    "\n",
    "def Fibonacci(n):\n",
    "    if n<= 0:\n",
    "        print(\"Incorrect input\")\n",
    "    elif n == 1:\n",
    "        return 0\n",
    "    elif n == 2:\n",
    "        return 1\n",
    "    else:\n",
    "        return Fibonacci(n-1)+Fibonacci(n-2)\n",
    "print(Fibonacci(10))"
   ]
  },
  {
   "cell_type": "code",
   "execution_count": 4,
   "id": "54c8bdc6-95b6-44d6-814b-ebfbb2acae67",
   "metadata": {},
   "outputs": [
    {
     "name": "stdout",
     "output_type": "stream",
     "text": [
      "28\n"
     ]
    }
   ],
   "source": [
    "#64Write a recursive Python function to calculate the sum of all elements in a list\n",
    " \n",
    "def sum_nestedlist( l ):\n",
    "    total = 0\n",
    "    for j in range(len(l)):\n",
    "        if type(l[j]) == list :\n",
    "            total+= sum_nestedlist(l[j])\n",
    "        else:\n",
    "            total += l[j]  \n",
    "    return total\n",
    "print(sum_nestedlist([[1,2,3],[4,[5,6]],7]))"
   ]
  },
  {
   "cell_type": "code",
   "execution_count": 5,
   "id": "9c75e6f8-ab7c-4558-9e56-8e3880565b69",
   "metadata": {},
   "outputs": [
    {
     "name": "stdout",
     "output_type": "stream",
     "text": [
      "The gcd of 60 and 48 is : 12\n"
     ]
    }
   ],
   "source": [
    "#65. Create a recursive Python function to find the greatest common divisor (GCD) of two numbers using the Euclidean algorithm.\n",
    "\n",
    "import math\n",
    "print(\"The gcd of 60 and 48 is : \", end=\"\")\n",
    "print(math.gcd(60, 48))"
   ]
  },
  {
   "cell_type": "code",
   "execution_count": 6,
   "id": "7a64e8d8-5278-4ffc-a708-a937a20bcc06",
   "metadata": {},
   "outputs": [
    {
     "name": "stdin",
     "output_type": "stream",
     "text": [
      "Enter the string that needs to be reversed :  karthik\n"
     ]
    },
    {
     "name": "stdout",
     "output_type": "stream",
     "text": [
      "The string is :\n",
      "karthik\n",
      "The reversed string is :\n",
      "kihtrak\n"
     ]
    }
   ],
   "source": [
    "#66Write a recursive Python function to reverse a string.\n",
    "\n",
    "def reverse_string(my_string):\n",
    "   if len(my_string) == 0:\n",
    "      return my_string\n",
    "   else:\n",
    "      return reverse_string(my_string[1:]) + my_string[0]\n",
    "my_str = str(input(\"Enter the string that needs to be reversed : \"))\n",
    "print(\"The string is :\")\n",
    "print(my_str)\n",
    "print(\"The reversed string is :\")\n",
    "print(reverse_string(my_str))"
   ]
  },
  {
   "cell_type": "code",
   "execution_count": 7,
   "id": "c032cc07-d7bf-4aa6-bd4f-c3519855788d",
   "metadata": {},
   "outputs": [
    {
     "name": "stdout",
     "output_type": "stream",
     "text": [
      "25\n"
     ]
    }
   ],
   "source": [
    "#67Create a recursive Python function to calculate the power of a number (x^n).\n",
    "\n",
    "def power(N, P):\n",
    "    if P == 0:\n",
    "        return 1\n",
    "    return (N*power(N, P-1))\n",
    "if __name__ == '__main__':\n",
    "    N = 5\n",
    "    P = 2\n",
    " \n",
    "    print(power(N, P))"
   ]
  },
  {
   "cell_type": "code",
   "execution_count": 2,
   "id": "c6a0c164-cef0-4328-a6f5-d07bf58be8d8",
   "metadata": {},
   "outputs": [
    {
     "name": "stdout",
     "output_type": "stream",
     "text": [
      "ABC\n",
      "ACB\n",
      "BAC\n",
      "BCA\n",
      "CBA\n",
      "CAB\n"
     ]
    }
   ],
   "source": [
    "#68Write a recursive Python function to find all permutations of a given string.\n",
    "\n",
    "def toString(List):\n",
    "    return ''.join(List)\n",
    "def permute(a, l, r):\n",
    "    if l == r:\n",
    "        print(toString(a))\n",
    "    else:\n",
    "        for i in range(l, r):\n",
    "            a[l], a[i] = a[i], a[l]\n",
    "            permute(a, l+1, r)\n",
    "            a[l], a[i] = a[i], a[l]\n",
    "string = \"ABC\"\n",
    "n = len(string)\n",
    "a = list(string)\n",
    "permute(a, 0, n)"
   ]
  },
  {
   "cell_type": "code",
   "execution_count": 6,
   "id": "04d76ad1-61fe-4b55-878e-bfc6dcef4a8b",
   "metadata": {},
   "outputs": [
    {
     "name": "stdout",
     "output_type": "stream",
     "text": [
      "The original list is : [4, 5, 6, 7, 3, 8]\n",
      "The combinations of elements till length N : [(4,), (5,), (6,), (7,), (3,), (8,), (4, 5), (4, 6), (4, 7), (4, 3), (4, 8), (5, 6), (5, 7), (5, 3), (5, 8), (6, 7), (6, 3), (6, 8), (7, 3), (7, 8), (3, 8), (4, 5, 6), (4, 5, 7), (4, 5, 3), (4, 5, 8), (4, 6, 7), (4, 6, 3), (4, 6, 8), (4, 7, 3), (4, 7, 8), (4, 3, 8), (5, 6, 7), (5, 6, 3), (5, 6, 8), (5, 7, 3), (5, 7, 8), (5, 3, 8), (6, 7, 3), (6, 7, 8), (6, 3, 8), (7, 3, 8)]\n"
     ]
    }
   ],
   "source": [
    "#69Create a recursive Python function to generate all possible combinations of a list of elements.\n",
    "\n",
    "from itertools import combinations\n",
    "test_list = [4, 5, 6, 7, 3, 8]\n",
    "print(\"The original list is : \" +  str(test_list))\n",
    "res = [com for sub in range(3) for com in combinations(test_list, sub + 1)]\n",
    "print(\"The combinations of elements till length N : \" +  str(res))"
   ]
  },
  {
   "cell_type": "code",
   "execution_count": null,
   "id": "912fa7aa-881b-4ecd-a415-b5985933f442",
   "metadata": {},
   "outputs": [],
   "source": []
  }
 ],
 "metadata": {
  "kernelspec": {
   "display_name": "Python 3 (ipykernel)",
   "language": "python",
   "name": "python3"
  },
  "language_info": {
   "codemirror_mode": {
    "name": "ipython",
    "version": 3
   },
   "file_extension": ".py",
   "mimetype": "text/x-python",
   "name": "python",
   "nbconvert_exporter": "python",
   "pygments_lexer": "ipython3",
   "version": "3.10.8"
  }
 },
 "nbformat": 4,
 "nbformat_minor": 5
}
